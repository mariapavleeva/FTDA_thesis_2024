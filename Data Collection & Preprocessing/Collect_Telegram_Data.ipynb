{
 "cells":[
  {
   "cell_type":"code",
   "source":[
    "!pip install telethon"
   ],
   "execution_count":16,
   "outputs":[
    {
     "name":"stdout",
     "text":[
      "Requirement already satisfied: telethon in \/opt\/python\/envs\/default\/lib\/python3.8\/site-packages (1.36.0)\r\n",
      "Requirement already satisfied: pyaes in \/opt\/python\/envs\/default\/lib\/python3.8\/site-packages (from telethon) (1.6.1)\r\n",
      "Requirement already satisfied: rsa in \/opt\/python\/envs\/default\/lib\/python3.8\/site-packages (from telethon) (4.9)\r\n",
      "Requirement already satisfied: pyasn1>=0.1.3 in \/opt\/python\/envs\/default\/lib\/python3.8\/site-packages (from rsa->telethon) (0.6.0)\r\n",
      "\r\n",
      "\u001b[1m[\u001b[0m\u001b[34;49mnotice\u001b[0m\u001b[1;39;49m]\u001b[0m\u001b[39;49m A new release of pip is available: \u001b[0m\u001b[31;49m23.1.2\u001b[0m\u001b[39;49m -> \u001b[0m\u001b[32;49m24.1\u001b[0m\r\n",
      "\u001b[1m[\u001b[0m\u001b[34;49mnotice\u001b[0m\u001b[1;39;49m]\u001b[0m\u001b[39;49m To update, run: \u001b[0m\u001b[32;49mpip install --upgrade pip\u001b[0m\r\n"
     ],
     "output_type":"stream"
    }
   ],
   "metadata":{
    "datalore":{
     "node_id":"mtVSNC8KI8ljErjQr8MgPH",
     "type":"CODE",
     "hide_input_from_viewers":false,
     "hide_output_from_viewers":false,
     "report_properties":{
      "rowId":"n3PPrmpEtKEES5l6Mn40W2"
     }
    }
   }
  },
  {
   "cell_type":"code",
   "source":[
    "from telethon import TelegramClient, sync\n",
    "import pandas as pd\n",
    "from datetime import timedelta\n",
    "\n",
    "api_id = 27978349\n",
    "api_hash = '174f6f06f7e1b241be23ccfe327f94a6'\n",
    "client = TelegramClient('a', api_id, api_hash)\n",
    "await client.start()\n",
    "await client.connect()"
   ],
   "execution_count":17,
   "outputs":[],
   "metadata":{
    "datalore":{
     "node_id":"N4M9f2Uskslvjz8BLHdRDo",
     "type":"CODE",
     "hide_input_from_viewers":false,
     "hide_output_from_viewers":false,
     "report_properties":{
      "rowId":"QkTGe7I3XsqrhC5eSo7GOT"
     }
    }
   }
  },
  {
   "cell_type":"code",
   "source":[
    "channel = 'pikabu'\n",
    "chats = await client.get_messages(channel, 1000)"
   ],
   "execution_count":19,
   "outputs":[],
   "metadata":{
    "datalore":{
     "node_id":"rzqkEFqYhfUucRcokr332K",
     "type":"CODE",
     "hide_input_from_viewers":false,
     "hide_output_from_viewers":false,
     "report_properties":{
      "rowId":"5mK7b7H5iwpTsyypgNcbAI"
     }
    }
   }
  },
  {
   "cell_type":"code",
   "source":[
    "prev_date = 0\n",
    "for i in range(len(chats)):\n",
    "    if 'MessageMediaDocument' in str(chats[i].media):\n",
    "        continue\n",
    "    if i != 0:\n",
    "        if prev_date - chats[i].date < timedelta(seconds = 5):\n",
    "            continue\n",
    "    prev_date = chats[i].date\n",
    "    await chats[i].download_media('\/data\/notebook_files\/' + f'{channel}' + f'\/{chats[i].date}')"
   ],
   "execution_count":21,
   "outputs":[],
   "metadata":{
    "datalore":{
     "node_id":"cKWjqrBgImxqnkDuwtHnja",
     "type":"CODE",
     "hide_input_from_viewers":true,
     "hide_output_from_viewers":true
    }
   }
  },
  {
   "cell_type":"code",
   "source":[
    "message = []\n",
    "time = []\n",
    "for chat in chats:\n",
    "    message.append(chat.message)\n",
    "    time.append(chat.date)"
   ],
   "execution_count":22,
   "outputs":[],
   "metadata":{
    "datalore":{
     "node_id":"grGzTSE4lj5iICyGWsBnRZ",
     "type":"CODE",
     "hide_input_from_viewers":true,
     "hide_output_from_viewers":true
    }
   }
  },
  {
   "cell_type":"code",
   "source":[
    "import numpy as np\n",
    "df = pd.DataFrame({'message': message, 'time': time, 'ad':[np.nan for i in range(len(message))]})"
   ],
   "execution_count":23,
   "outputs":[],
   "metadata":{
    "datalore":{
     "node_id":"wrgY1Unj86qpidGJbhgqnT",
     "type":"CODE",
     "hide_input_from_viewers":true,
     "hide_output_from_viewers":true
    }
   }
  },
  {
   "cell_type":"code",
   "source":[
    "df.to_csv(f'\/data\/notebook_files\/{channel}.csv', index = False)"
   ],
   "execution_count":25,
   "outputs":[],
   "metadata":{
    "datalore":{
     "node_id":"tU8wh1ZUEArWFX4osA70Fp",
     "type":"CODE",
     "hide_input_from_viewers":true,
     "hide_output_from_viewers":true
    }
   }
  },
  {
   "cell_type":"code",
   "source":[
    "to_dro = []\n",
    "for i in range(len(df)):\n",
    "    if type(df.message.iloc[i]) == float and ((len(df[df.time == df.time.iloc[i]]) > 1) or (len(df[df.time == df.time.iloc[i]+timedelta(seconds=1)]) > 0)or (len(df[df.time == df.time.iloc[i]-timedelta(seconds=1)]) > 0)):\n",
    "        to_dro.append(i)"
   ],
   "execution_count":27,
   "outputs":[],
   "metadata":{
    "datalore":{
     "node_id":"8H7SiXa5qAtjYL5UVb3GKG",
     "type":"CODE",
     "hide_input_from_viewers":true,
     "hide_output_from_viewers":true
    }
   }
  },
  {
   "cell_type":"code",
   "source":[
    "df = df.drop(index = to_dro)"
   ],
   "execution_count":28,
   "outputs":[],
   "metadata":{
    "datalore":{
     "node_id":"8aCml8HqdHychOK9bitxV1",
     "type":"CODE",
     "hide_input_from_viewers":true,
     "hide_output_from_viewers":true
    }
   }
  },
  {
   "cell_type":"code",
   "source":[
    "df.to_csv(f'\/data\/notebook_files\/{channel}.csv', index = False)"
   ],
   "execution_count":29,
   "outputs":[],
   "metadata":{
    "datalore":{
     "node_id":"IgIxgkujur3K5zd7SLqB1X",
     "type":"CODE",
     "hide_input_from_viewers":true,
     "hide_output_from_viewers":true
    }
   }
  },
  {
   "cell_type":"code",
   "source":[
    "await client.disconnect()"
   ],
   "execution_count":0,
   "outputs":[],
   "metadata":{
    "datalore":{
     "node_id":"hvBTnD4x9FCwp0E2H3csQa",
     "type":"CODE",
     "hide_input_from_viewers":true,
     "hide_output_from_viewers":true
    }
   }
  }
 ],
 "metadata":{
  "kernelspec":{
   "display_name":"Python",
   "language":"python",
   "name":"python"
  },
  "datalore":{
   "computation_mode":"JUPYTER",
   "package_manager":"pip",
   "base_environment":"default",
   "packages":[],
   "report_row_ids":[
    "n3PPrmpEtKEES5l6Mn40W2",
    "QkTGe7I3XsqrhC5eSo7GOT",
    "5mK7b7H5iwpTsyypgNcbAI",
    "v1jiL6EWJz1XXDGiLfPLdk",
    "k0lIb2VkMEvif0bOfgpYkQ"
   ],
   "version":3
  }
 },
 "nbformat":4,
 "nbformat_minor":4
}